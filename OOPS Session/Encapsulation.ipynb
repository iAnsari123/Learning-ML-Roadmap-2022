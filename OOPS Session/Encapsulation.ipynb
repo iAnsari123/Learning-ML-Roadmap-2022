{
 "cells": [
  {
   "cell_type": "code",
   "execution_count": 220,
   "id": "10ca859d-8030-41cb-898b-8f38608c1fb7",
   "metadata": {},
   "outputs": [],
   "source": [
    "class Student:\n",
    "    __numberOfStudents = 0 # Class variable or Static Property\n",
    "    __schoolName = \"MAPS\"\n",
    "    \n",
    "    isPlusMember = True\n",
    "    \n",
    "    def __init__(self,name,rollNumber,marks):\n",
    "        # print(id(self))\n",
    "        self.rollNumber = rollNumber\n",
    "        self.name = name\n",
    "        self.__marks = marks\n",
    "        self.numberOfStudents  = Student.__numberOfStudents + 1\n",
    "        Student.__numberOfStudents = Student.__numberOfStudents + 1\n",
    "    \n",
    "    #getter\n",
    "    def getMarks(self):\n",
    "        return self.__marks\n",
    "    #setter\n",
    "    def setMarks(self,newMarks,passCode):\n",
    "        if(passCode == self.__auth()):       # Security\n",
    "            self.__marks = newMarks\n",
    "        else:\n",
    "            return \"Bhag yaha se\"\n",
    "    \n",
    "    @staticmethod       \n",
    "    def getSchoolName():\n",
    "        return Student.__schoolName\n",
    "        \n",
    "    @staticmethod\n",
    "    def setSchoolName(newSchoolName,passCode):\n",
    "        Student.__SendMail()\n",
    "        Student.__schoolName = newSchoolName\n",
    "\n",
    "    @staticmethod\n",
    "    def __SendMail():\n",
    "        print(\"Sending the mail to all the comitee members\")\n",
    "\n",
    "    def getStudentSchoolName(self):\n",
    "        return Student.__schoolName \n",
    "    \n",
    "    def __auth(self):\n",
    "        return \"0000\"\n",
    "\n",
    "    def study(self):\n",
    "        print(\"I am \"+ str(self.rollNumber) +\" and I am  studying\")\n",
    "        \n",
    "    def play(self):\n",
    "        print(\"Pdh liya, now going to play\")"
   ]
  },
  {
   "cell_type": "code",
   "execution_count": 222,
   "id": "9564fdec-ac73-4ff5-b33d-7e9e5b5ca637",
   "metadata": {},
   "outputs": [],
   "source": [
    "s1 = Student(\"Mayank\",1,90)\n"
   ]
  },
  {
   "cell_type": "code",
   "execution_count": 230,
   "id": "dbebc219-312f-458d-8238-08d8a3648279",
   "metadata": {},
   "outputs": [
    {
     "name": "stdout",
     "output_type": "stream",
     "text": [
      "Sending the mail to all the comitee members\n"
     ]
    }
   ],
   "source": [
    "Student.setSchoolName(\"NSIT\",\"000\")"
   ]
  },
  {
   "cell_type": "code",
   "execution_count": null,
   "id": "23d1edba-97e7-4c21-a45b-6f56ff45f58b",
   "metadata": {},
   "outputs": [],
   "source": [
    "Student."
   ]
  },
  {
   "cell_type": "code",
   "execution_count": 218,
   "id": "ba5a70b4-2d04-496e-b187-b4899bd8bc1e",
   "metadata": {},
   "outputs": [
    {
     "data": {
      "text/plain": [
       "'NSIT'"
      ]
     },
     "execution_count": 218,
     "metadata": {},
     "output_type": "execute_result"
    }
   ],
   "source": [
    "Student.getSchoolName()"
   ]
  },
  {
   "cell_type": "code",
   "execution_count": 208,
   "id": "c012a3cb-770c-4f6f-8625-e9243a132663",
   "metadata": {},
   "outputs": [
    {
     "data": {
      "text/plain": [
       "'MAPS'"
      ]
     },
     "execution_count": 208,
     "metadata": {},
     "output_type": "execute_result"
    }
   ],
   "source": [
    "s1.getStudentSchoolName()"
   ]
  },
  {
   "cell_type": "code",
   "execution_count": 152,
   "id": "7d1b61e2-2ca6-4502-a318-d042d1491b07",
   "metadata": {},
   "outputs": [],
   "source": [
    "s1 = Student(\"Mayank\",1,90)\n",
    "s2 = Student(\"Goku\",2,90)"
   ]
  },
  {
   "cell_type": "code",
   "execution_count": 154,
   "id": "c7f50cbc-6c5d-401c-a7de-215ab8043e11",
   "metadata": {},
   "outputs": [
    {
     "data": {
      "text/plain": [
       "1"
      ]
     },
     "execution_count": 154,
     "metadata": {},
     "output_type": "execute_result"
    }
   ],
   "source": [
    "s1.numberOfStudents"
   ]
  },
  {
   "cell_type": "code",
   "execution_count": 112,
   "id": "f0b6ed48-69df-4408-98f2-83637b1f4e3b",
   "metadata": {},
   "outputs": [
    {
     "data": {
      "text/plain": [
       "90"
      ]
     },
     "execution_count": 112,
     "metadata": {},
     "output_type": "execute_result"
    }
   ],
   "source": [
    "s1.getMarks()"
   ]
  },
  {
   "cell_type": "code",
   "execution_count": 138,
   "id": "b5ecc8b9-67a2-4e98-bd31-712dd6869f47",
   "metadata": {},
   "outputs": [
    {
     "data": {
      "text/plain": [
       "'Bhag yaha se'"
      ]
     },
     "execution_count": 138,
     "metadata": {},
     "output_type": "execute_result"
    }
   ],
   "source": [
    "s1.setMarks(95,\"0001\")"
   ]
  },
  {
   "cell_type": "code",
   "execution_count": 102,
   "id": "d36d117b-a65f-4827-8744-088de6ecea1e",
   "metadata": {},
   "outputs": [
    {
     "data": {
      "text/plain": [
       "95"
      ]
     },
     "execution_count": 102,
     "metadata": {},
     "output_type": "execute_result"
    }
   ],
   "source": [
    "s1.getMarks()"
   ]
  },
  {
   "cell_type": "code",
   "execution_count": 74,
   "id": "4eb7ab5c-6dc1-413e-a80c-4a90718f6e13",
   "metadata": {},
   "outputs": [
    {
     "ename": "AttributeError",
     "evalue": "'Student' object has no attribute 'marks'",
     "output_type": "error",
     "traceback": [
      "\u001b[0;31m---------------------------------------------------------------------------\u001b[0m",
      "\u001b[0;31mAttributeError\u001b[0m                            Traceback (most recent call last)",
      "Cell \u001b[0;32mIn[74], line 1\u001b[0m\n\u001b[0;32m----> 1\u001b[0m s2\u001b[38;5;241m.\u001b[39mmarks\n",
      "\u001b[0;31mAttributeError\u001b[0m: 'Student' object has no attribute 'marks'"
     ]
    }
   ],
   "source": [
    "s2.marks"
   ]
  },
  {
   "cell_type": "code",
   "execution_count": 76,
   "id": "c87e1bb7-d787-489b-9e31-65f2e309dee5",
   "metadata": {},
   "outputs": [],
   "source": [
    "s1.marks=45"
   ]
  },
  {
   "cell_type": "code",
   "execution_count": 80,
   "id": "1536d96f-9f8c-477a-9624-3fd2c3be94d9",
   "metadata": {},
   "outputs": [
    {
     "data": {
      "text/plain": [
       "45"
      ]
     },
     "execution_count": 80,
     "metadata": {},
     "output_type": "execute_result"
    }
   ],
   "source": [
    "s1.marks"
   ]
  },
  {
   "cell_type": "code",
   "execution_count": 82,
   "id": "1e1f5e57-34d3-4099-aac2-d475a5e650ea",
   "metadata": {},
   "outputs": [
    {
     "data": {
      "text/plain": [
       "90"
      ]
     },
     "execution_count": 82,
     "metadata": {},
     "output_type": "execute_result"
    }
   ],
   "source": [
    "s1.getMarks()"
   ]
  },
  {
   "cell_type": "code",
   "execution_count": 104,
   "id": "6122773f-3df6-4ae6-97e8-6ecbf7e3e168",
   "metadata": {},
   "outputs": [
    {
     "data": {
      "text/plain": [
       "'knayam'"
      ]
     },
     "execution_count": 104,
     "metadata": {},
     "output_type": "execute_result"
    }
   ],
   "source": [
    "s1.name = \"knayam\"\n",
    "s1.name"
   ]
  },
  {
   "cell_type": "code",
   "execution_count": 106,
   "id": "a5ef780b-3636-492b-b030-2ec9322eba08",
   "metadata": {},
   "outputs": [
    {
     "data": {
      "text/plain": [
       "70"
      ]
     },
     "execution_count": 106,
     "metadata": {},
     "output_type": "execute_result"
    }
   ],
   "source": [
    "s1.setMarks(70)\n",
    "s1.getMarks()"
   ]
  }
 ],
 "metadata": {
  "kernelspec": {
   "display_name": "Python 3 (ipykernel)",
   "language": "python",
   "name": "python3"
  },
  "language_info": {
   "codemirror_mode": {
    "name": "ipython",
    "version": 3
   },
   "file_extension": ".py",
   "mimetype": "text/x-python",
   "name": "python",
   "nbconvert_exporter": "python",
   "pygments_lexer": "ipython3",
   "version": "3.11.5"
  }
 },
 "nbformat": 4,
 "nbformat_minor": 5
}
