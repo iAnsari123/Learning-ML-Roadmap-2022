{
 "cells": [
  {
   "cell_type": "markdown",
   "id": "3b71fe85-3e59-440e-a02d-243176368798",
   "metadata": {},
   "source": [
    "# Operator Overloading"
   ]
  },
  {
   "cell_type": "code",
   "execution_count": 3,
   "id": "56edb4f5-f55b-4ec0-9c03-c53615e73ea4",
   "metadata": {},
   "outputs": [
    {
     "data": {
      "text/plain": [
       "2"
      ]
     },
     "execution_count": 3,
     "metadata": {},
     "output_type": "execute_result"
    }
   ],
   "source": [
    "1+1"
   ]
  },
  {
   "cell_type": "code",
   "execution_count": 5,
   "id": "b0d05bad-970a-431c-9ad7-7aa00ab9f9a9",
   "metadata": {},
   "outputs": [
    {
     "data": {
      "text/plain": [
       "'11'"
      ]
     },
     "execution_count": 5,
     "metadata": {},
     "output_type": "execute_result"
    }
   ],
   "source": [
    "'1' + '1'"
   ]
  },
  {
   "cell_type": "code",
   "execution_count": 9,
   "id": "1954012c-a834-4037-a573-d9d9a97cd17f",
   "metadata": {},
   "outputs": [
    {
     "data": {
      "text/plain": [
       "[1, 2, 3, 4]"
      ]
     },
     "execution_count": 9,
     "metadata": {},
     "output_type": "execute_result"
    }
   ],
   "source": [
    "[1,2] + [3,4]"
   ]
  },
  {
   "cell_type": "markdown",
   "id": "ce87c541-4512-4eb5-a7b2-13227be3db2e",
   "metadata": {},
   "source": [
    "# Polymorphism"
   ]
  },
  {
   "cell_type": "markdown",
   "id": "2d1927d1-1ddd-4bc6-9759-29025401ba04",
   "metadata": {},
   "source": [
    "# Method Overloading"
   ]
  },
  {
   "cell_type": "code",
   "execution_count": 42,
   "id": "d38675ca-5419-4fe0-ac2d-135bfe17f825",
   "metadata": {},
   "outputs": [],
   "source": [
    "def sum2(a,b):\n",
    "    print(a+b)"
   ]
  },
  {
   "cell_type": "code",
   "execution_count": 46,
   "id": "cc1528f6-77b0-4943-991e-fd08762d8036",
   "metadata": {},
   "outputs": [],
   "source": [
    "def sum3(a,b,c):\n",
    "    print(a+b+c)"
   ]
  },
  {
   "cell_type": "code",
   "execution_count": 48,
   "id": "17f2ed0a-0058-43b6-a9fc-10a9a8586389",
   "metadata": {},
   "outputs": [],
   "source": [
    "def sumBetter(a,b,c=0):\n",
    "    if(c==0):\n",
    "        sum2(a,b)\n",
    "    else:\n",
    "        sum3(a,b,c)"
   ]
  },
  {
   "cell_type": "code",
   "execution_count": 50,
   "id": "e7ed34a6-a95d-4927-890c-e2682608939c",
   "metadata": {},
   "outputs": [
    {
     "name": "stdout",
     "output_type": "stream",
     "text": [
      "9\n"
     ]
    }
   ],
   "source": [
    "sumBetter(2,3,4)"
   ]
  },
  {
   "cell_type": "code",
   "execution_count": 52,
   "id": "914d3709-e70a-45b5-a8b3-1e2da0dc40fe",
   "metadata": {},
   "outputs": [
    {
     "name": "stdout",
     "output_type": "stream",
     "text": [
      "6\n"
     ]
    }
   ],
   "source": [
    "sumBetter(2,4)"
   ]
  },
  {
   "cell_type": "code",
   "execution_count": 66,
   "id": "01de286a-1fa7-48bc-bd81-6c9053e8bec7",
   "metadata": {},
   "outputs": [],
   "source": [
    "class User:\n",
    "\n",
    "    def __init__(self,name,mobileNumber,address=\"\"):\n",
    "        if(address==\"\"):\n",
    "            self.C1(name,mobileNumber)\n",
    "        else:\n",
    "            self.C2(name,mobileNumber,address)\n",
    "    \n",
    "    def C1(self,name,mobileNumber):\n",
    "        self.name = name\n",
    "        self.mobileNumber = mobileNumber\n",
    "\n",
    "    def C2(self,name,mobileNumber,address):\n",
    "        self.name = name\n",
    "        self.mobileNumber = mobileNumber\n",
    "        self.address = address"
   ]
  },
  {
   "cell_type": "code",
   "execution_count": 76,
   "id": "489a3a41-ecf8-4a24-97cc-7f095e356351",
   "metadata": {},
   "outputs": [],
   "source": [
    "u1 = User(\"Mayank\",\"9999999\",\"Delhi\")"
   ]
  },
  {
   "cell_type": "markdown",
   "id": "7f52a1ae-2d2b-43e1-aa55-f8a1c7cb074b",
   "metadata": {},
   "source": [
    "# Method Overriding"
   ]
  },
  {
   "cell_type": "code",
   "execution_count": 86,
   "id": "db5946e5-4bcb-4aa8-8733-5ac6d2dabf05",
   "metadata": {},
   "outputs": [
    {
     "name": "stdout",
     "output_type": "stream",
     "text": [
      "Bark\n"
     ]
    },
    {
     "data": {
      "text/plain": [
       "'Some sound'"
      ]
     },
     "execution_count": 86,
     "metadata": {},
     "output_type": "execute_result"
    }
   ],
   "source": [
    "class Animal:\n",
    "    def sound(self):\n",
    "        return 'Some sound'\n",
    "\n",
    "class Dog(Animal):\n",
    "    def sound(self):\n",
    "        return 'Bark'\n",
    "\n",
    "obj = Dog()\n",
    "print(obj.sound())\n",
    "\n",
    "obj = Animal()\n",
    "obj.sound()"
   ]
  }
 ],
 "metadata": {
  "kernelspec": {
   "display_name": "Python 3 (ipykernel)",
   "language": "python",
   "name": "python3"
  },
  "language_info": {
   "codemirror_mode": {
    "name": "ipython",
    "version": 3
   },
   "file_extension": ".py",
   "mimetype": "text/x-python",
   "name": "python",
   "nbconvert_exporter": "python",
   "pygments_lexer": "ipython3",
   "version": "3.11.5"
  }
 },
 "nbformat": 4,
 "nbformat_minor": 5
}
