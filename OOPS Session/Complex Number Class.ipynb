{
 "cells": [
  {
   "cell_type": "code",
   "execution_count": 243,
   "id": "c311c908-cef8-4dd7-82ba-16cf06cc1a52",
   "metadata": {},
   "outputs": [],
   "source": [
    "c1 = 3+4j\n",
    "c2 = 4+5j"
   ]
  },
  {
   "cell_type": "code",
   "execution_count": 301,
   "id": "f73af2d8-2066-4476-a45a-a42bd47147a9",
   "metadata": {},
   "outputs": [
    {
     "data": {
      "text/plain": [
       "(-8+31j)"
      ]
     },
     "execution_count": 301,
     "metadata": {},
     "output_type": "execute_result"
    }
   ],
   "source": [
    "c1*c2"
   ]
  },
  {
   "cell_type": "code",
   "execution_count": 251,
   "id": "63ce83f1-7a32-40b9-ac4f-ea2ed0ea4109",
   "metadata": {},
   "outputs": [
    {
     "data": {
      "text/plain": [
       "((3+4j), (4+5j))"
      ]
     },
     "execution_count": 251,
     "metadata": {},
     "output_type": "execute_result"
    }
   ],
   "source": [
    "c1,c2"
   ]
  },
  {
   "cell_type": "code",
   "execution_count": 175,
   "id": "deb9b830-a4be-4893-b67f-52c0515abd6f",
   "metadata": {},
   "outputs": [],
   "source": [
    "c = complex(0,6)"
   ]
  },
  {
   "cell_type": "code",
   "execution_count": 177,
   "id": "2a7e5e6a-00f8-4bc2-80c3-e06e9aa1a4e3",
   "metadata": {},
   "outputs": [
    {
     "name": "stdout",
     "output_type": "stream",
     "text": [
      "6j\n"
     ]
    }
   ],
   "source": [
    "print(c)"
   ]
  },
  {
   "cell_type": "code",
   "execution_count": 81,
   "id": "967767d1-480a-4c02-a0ab-98479777b23c",
   "metadata": {},
   "outputs": [
    {
     "data": {
      "text/plain": [
       "(3-5j)"
      ]
     },
     "execution_count": 81,
     "metadata": {},
     "output_type": "execute_result"
    }
   ],
   "source": [
    "c.conjugate()"
   ]
  },
  {
   "cell_type": "code",
   "execution_count": 83,
   "id": "efd0e264-8e07-417a-b77e-79130de1d7b3",
   "metadata": {},
   "outputs": [
    {
     "data": {
      "text/plain": [
       "(3+5j)"
      ]
     },
     "execution_count": 83,
     "metadata": {},
     "output_type": "execute_result"
    }
   ],
   "source": [
    "c"
   ]
  },
  {
   "cell_type": "code",
   "execution_count": 25,
   "id": "a57a60a5-1515-4000-94f9-36822bced5f6",
   "metadata": {},
   "outputs": [
    {
     "name": "stdout",
     "output_type": "stream",
     "text": [
      "<class 'type'>\n"
     ]
    }
   ],
   "source": [
    "print(type(complex))"
   ]
  },
  {
   "cell_type": "code",
   "execution_count": 3,
   "id": "525717b1-7acf-413f-9a42-dfb4a8e9b057",
   "metadata": {},
   "outputs": [
    {
     "data": {
      "text/plain": [
       "(complex, complex)"
      ]
     },
     "execution_count": 3,
     "metadata": {},
     "output_type": "execute_result"
    }
   ],
   "source": [
    "type(c1),type(c2)"
   ]
  },
  {
   "cell_type": "code",
   "execution_count": 241,
   "id": "4cc9063e-a2c6-4971-a1b6-5a913be10a1d",
   "metadata": {},
   "outputs": [
    {
     "data": {
      "text/plain": [
       "((7+9j), (-1-1j), (-8+31j), (0.7804878048780489+0.02439024390243905j))"
      ]
     },
     "execution_count": 241,
     "metadata": {},
     "output_type": "execute_result"
    }
   ],
   "source": [
    "c1+c2,c1-c2,c1*c2,c1/c2"
   ]
  },
  {
   "cell_type": "code",
   "execution_count": 265,
   "id": "960b5a73-bc61-4e76-b83a-78fc0961549c",
   "metadata": {},
   "outputs": [],
   "source": [
    "l1 = [3,2,1]"
   ]
  },
  {
   "cell_type": "code",
   "execution_count": 267,
   "id": "1ff8f99b-e8cd-4bdd-85d3-c81008ecc908",
   "metadata": {},
   "outputs": [],
   "source": [
    "l1.sort()"
   ]
  },
  {
   "cell_type": "code",
   "execution_count": 269,
   "id": "48adf27c-5404-4b51-b2c5-3df839c3b53a",
   "metadata": {},
   "outputs": [
    {
     "data": {
      "text/plain": [
       "[1, 2, 3]"
      ]
     },
     "execution_count": 269,
     "metadata": {},
     "output_type": "execute_result"
    }
   ],
   "source": [
    "l1"
   ]
  },
  {
   "cell_type": "markdown",
   "id": "86f3da70-b562-44f4-b6e2-575575a441fc",
   "metadata": {},
   "source": [
    "# Question 1: Class for Complex Numbers\n",
    "\"\"\"\n",
    "Create a Python class named `ComplexNumber` to represent complex numbers.\n",
    "\n",
    "Theory:\n",
    "A complex number is a number that comprises a real part and an imaginary part.\n",
    "It is typically written in the form a + bi, where 'a' is the real part,\n",
    "and 'b' is the imaginary part, and 'i' is the imaginary unit (√-1).\n",
    "\n",
    "Operations:\n",
    "1. Addition (+)\n",
    "2. Subtraction (-)\n",
    "3. Multiplication (*)\n",
    "4. Division (/)\n",
    "5. Comparison (==, !=)\n",
    "\n",
    "\n",
    "\"\"\"\n",
    "\n",
    "\n"
   ]
  },
  {
   "cell_type": "code",
   "execution_count": 205,
   "id": "f8a88fa5-b361-4d2c-8ac1-a542f5e806f5",
   "metadata": {},
   "outputs": [
    {
     "ename": "TypeError",
     "evalue": "unsupported operand type(s) for +: 'int' and 'list'",
     "output_type": "error",
     "traceback": [
      "\u001b[0;31m---------------------------------------------------------------------------\u001b[0m",
      "\u001b[0;31mTypeError\u001b[0m                                 Traceback (most recent call last)",
      "Cell \u001b[0;32mIn[205], line 1\u001b[0m\n\u001b[0;32m----> 1\u001b[0m \u001b[38;5;241m1\u001b[39m \u001b[38;5;241m+\u001b[39m [\u001b[38;5;241m1\u001b[39m,\u001b[38;5;241m2\u001b[39m,\u001b[38;5;241m3\u001b[39m]\n",
      "\u001b[0;31mTypeError\u001b[0m: unsupported operand type(s) for +: 'int' and 'list'"
     ]
    }
   ],
   "source": [
    "1 + [1,2,3]"
   ]
  },
  {
   "cell_type": "code",
   "execution_count": 213,
   "id": "b5db0ab8-8184-4d7f-9d0c-4e0698778ba0",
   "metadata": {},
   "outputs": [
    {
     "data": {
      "text/plain": [
       "2"
      ]
     },
     "execution_count": 213,
     "metadata": {},
     "output_type": "execute_result"
    }
   ],
   "source": [
    "1 + 1"
   ]
  },
  {
   "cell_type": "code",
   "execution_count": 215,
   "id": "e8cde8ae-330c-4686-aff5-9e9d556ead0f",
   "metadata": {},
   "outputs": [
    {
     "data": {
      "text/plain": [
       "'11'"
      ]
     },
     "execution_count": 215,
     "metadata": {},
     "output_type": "execute_result"
    }
   ],
   "source": [
    "\"1\" + \"1\""
   ]
  },
  {
   "cell_type": "code",
   "execution_count": 411,
   "id": "e65a974f-9898-49f6-a3c7-1808f349863b",
   "metadata": {},
   "outputs": [],
   "source": [
    "class ComplexNumber:\n",
    "    def __init__(self,real=0.0,imag=0.0):\n",
    "        self.imag = imag\n",
    "        self.real = real\n",
    "\n",
    "    def __str__(self): # magic method\n",
    "        if(self.real==0):\n",
    "            return f\"{self.imag}i\"\n",
    "        elif(self.imag<0):\n",
    "            s = f\"{self.real}{self.imag}i\"\n",
    "        else:\n",
    "            s = f\"{self.real}+{self.imag}i\"\n",
    "        return s\n",
    "\n",
    "\n",
    "    def __add__(self,other):\n",
    "        resultReal =0\n",
    "        resultImag = 0\n",
    "        \n",
    "        resultReal = self.real + other.real\n",
    "        resultImag = self.imag + other.imag\n",
    "        ans = ComplexNumber(resultReal,resultImag)\n",
    "\n",
    "        return ans\n",
    "\n",
    "    def __sub__(self,other):\n",
    "        # print(\"I am here\")\n",
    "        resultReal =0\n",
    "        resultImag = 0\n",
    "        \n",
    "        resultReal = self.real - other.real\n",
    "        resultImag = self.imag - other.imag\n",
    "        ans = ComplexNumber(resultReal,resultImag)\n",
    "    \n",
    "        return ans\n",
    "\n",
    "    def __mul__(self,other):\n",
    "        resultReal =0\n",
    "        resultImag = 0\n",
    "        \n",
    "        resultReal = self.real * other.real - self.imag * other.imag\n",
    "        resultImag = self.real * other.imag + other.real * self.imag\n",
    "        ans = ComplexNumber(resultReal,resultImag)\n",
    "    \n",
    "        return ans\n",
    "\n",
    "    def __truediv__(self,other):\n",
    "        resultReal =0\n",
    "        resultImag = 0\n",
    "        den = other.real**2 + other.imag**2\n",
    "        ans = self * ComplexNumber(other.real/den,(-1*other.imag)/den)\n",
    "        return ans\n",
    "    \n",
    "    def conjugate(self):\n",
    "        return ComplexNumber(self.real,-1*self.imag)\n",
    "\n",
    "    def __eq__(self,other):\n",
    "        return (self.real == other.real) and (self.imag == other.imag)\n",
    "\n"
   ]
  },
  {
   "cell_type": "code",
   "execution_count": 413,
   "id": "08115a83-aae9-4d8c-a118-359aa24bade2",
   "metadata": {},
   "outputs": [],
   "source": [
    "cn1 = ComplexNumber(3,4)\n",
    "cn2 = ComplexNumber(3,4)"
   ]
  },
  {
   "cell_type": "code",
   "execution_count": 381,
   "id": "09e3283c-bcf6-4772-9225-4a3195dc2344",
   "metadata": {},
   "outputs": [
    {
     "data": {
      "text/plain": [
       "False"
      ]
     },
     "execution_count": 381,
     "metadata": {},
     "output_type": "execute_result"
    }
   ],
   "source": [
    "cn1!=cn2"
   ]
  },
  {
   "cell_type": "code",
   "execution_count": 333,
   "id": "d1893deb-cfd4-4f4f-9860-6b3536cc7d9d",
   "metadata": {},
   "outputs": [
    {
     "name": "stdout",
     "output_type": "stream",
     "text": [
      "(3+4i) (4+5i)\n"
     ]
    }
   ],
   "source": [
    "print(cn1,cn2)"
   ]
  },
  {
   "cell_type": "code",
   "execution_count": 191,
   "id": "89eaffd1-139b-4fc6-9683-354c0d24f025",
   "metadata": {},
   "outputs": [
    {
     "name": "stdout",
     "output_type": "stream",
     "text": [
      "5i\n"
     ]
    }
   ],
   "source": [
    "print(cn)"
   ]
  },
  {
   "cell_type": "code",
   "execution_count": 131,
   "id": "780b9157-db6a-460b-8256-517a0c7e7fce",
   "metadata": {},
   "outputs": [
    {
     "name": "stdout",
     "output_type": "stream",
     "text": [
      "(3 + -5)\n"
     ]
    }
   ],
   "source": [
    "cn.conjugate()"
   ]
  },
  {
   "cell_type": "code",
   "execution_count": 349,
   "id": "f01e74b1-5ff0-4c79-8acb-67ea2f0dd4a2",
   "metadata": {},
   "outputs": [
    {
     "name": "stdout",
     "output_type": "stream",
     "text": [
      "(0.7804878048780488+0.024390243902439046i)\n"
     ]
    }
   ],
   "source": [
    "print(cn1 / cn2)"
   ]
  },
  {
   "cell_type": "code",
   "execution_count": 385,
   "id": "c948372c-6db7-422b-8ad0-adadb2179ee2",
   "metadata": {},
   "outputs": [
    {
     "data": {
      "text/plain": [
       "(0.7804878048780489+0.02439024390243905j)"
      ]
     },
     "execution_count": 385,
     "metadata": {},
     "output_type": "execute_result"
    }
   ],
   "source": [
    "c1/c2"
   ]
  },
  {
   "cell_type": "code",
   "execution_count": 387,
   "id": "ef48b628-809c-4bae-81b3-aa6cafae4208",
   "metadata": {},
   "outputs": [
    {
     "data": {
      "text/plain": [
       "'(3+4i)'"
      ]
     },
     "execution_count": 387,
     "metadata": {},
     "output_type": "execute_result"
    }
   ],
   "source": [
    "str(complex1)"
   ]
  },
  {
   "cell_type": "code",
   "execution_count": 417,
   "id": "7036432c-acff-4e14-9005-51da064f8239",
   "metadata": {},
   "outputs": [
    {
     "data": {
      "text/plain": [
       "'-5+10i'"
      ]
     },
     "execution_count": 417,
     "metadata": {},
     "output_type": "execute_result"
    }
   ],
   "source": [
    "str(complex1 / complex2)"
   ]
  },
  {
   "cell_type": "code",
   "execution_count": 407,
   "id": "6231867c-c3b4-4609-bec2-4f2928810344",
   "metadata": {},
   "outputs": [
    {
     "data": {
      "text/plain": [
       "(-1+2j)"
      ]
     },
     "execution_count": 407,
     "metadata": {},
     "output_type": "execute_result"
    }
   ],
   "source": [
    "c1 =complex(3,4)\n",
    "c2 = complex(1,-2)\n",
    "c1/c2"
   ]
  },
  {
   "cell_type": "code",
   "execution_count": 415,
   "id": "182a8128-8bf2-439a-8385-e449a7912b25",
   "metadata": {},
   "outputs": [
    {
     "ename": "AssertionError",
     "evalue": "",
     "output_type": "error",
     "traceback": [
      "\u001b[0;31m---------------------------------------------------------------------------\u001b[0m",
      "\u001b[0;31mAssertionError\u001b[0m                            Traceback (most recent call last)",
      "Cell \u001b[0;32mIn[415], line 8\u001b[0m\n\u001b[1;32m      6\u001b[0m \u001b[38;5;28;01massert\u001b[39;00m \u001b[38;5;28mstr\u001b[39m(complex1 \u001b[38;5;241m-\u001b[39m complex2) \u001b[38;5;241m==\u001b[39m \u001b[38;5;124m\"\u001b[39m\u001b[38;5;124m2+6i\u001b[39m\u001b[38;5;124m\"\u001b[39m\n\u001b[1;32m      7\u001b[0m \u001b[38;5;28;01massert\u001b[39;00m \u001b[38;5;28mstr\u001b[39m(complex1 \u001b[38;5;241m*\u001b[39m complex2) \u001b[38;5;241m==\u001b[39m \u001b[38;5;124m\"\u001b[39m\u001b[38;5;124m11-2i\u001b[39m\u001b[38;5;124m\"\u001b[39m\n\u001b[0;32m----> 8\u001b[0m \u001b[38;5;28;01massert\u001b[39;00m \u001b[38;5;28mstr\u001b[39m(complex1 \u001b[38;5;241m/\u001b[39m complex2) \u001b[38;5;241m==\u001b[39m \u001b[38;5;124m\"\u001b[39m\u001b[38;5;124m-1.0+2.0i\u001b[39m\u001b[38;5;124m\"\u001b[39m\n\u001b[1;32m      9\u001b[0m \u001b[38;5;28;01massert\u001b[39;00m complex1 \u001b[38;5;241m!=\u001b[39m complex2\n",
      "\u001b[0;31mAssertionError\u001b[0m: "
     ]
    }
   ],
   "source": [
    "complex1 = ComplexNumber(3, 4)\n",
    "complex2 = ComplexNumber(1, -2)\n",
    "assert str(complex1) == \"3+4i\"\n",
    "assert str(complex2) == \"1-2i\"\n",
    "assert str(complex1 + complex2) == \"4+2i\"\n",
    "assert str(complex1 - complex2) == \"2+6i\"\n",
    "assert str(complex1 * complex2) == \"11-2i\"\n",
    "assert str(complex1 / complex2) == \"-1.0+2.0i\"\n",
    "assert complex1 != complex2"
   ]
  },
  {
   "cell_type": "code",
   "execution_count": null,
   "id": "1ddd8b17-e2c1-4ffd-b7c7-5f284854c395",
   "metadata": {},
   "outputs": [],
   "source": [
    "\"\"\"Test Cases:\n",
    "Test Case 1:\n",
    "complex1 = ComplexNumber(3, 4)\n",
    "complex2 = ComplexNumber(1, -2)\n",
    "assert str(complex1) == \"3+4i\"\n",
    "assert str(complex2) == \"1-2i\"\n",
    "assert str(complex1 + complex2) == \"4+2i\"\n",
    "assert str(complex1 - complex2) == \"2+6i\"\n",
    "assert str(complex1 * complex2) == \"11-2i\"\n",
    "assert str(complex1 / complex2) == \"-1.0+2.5i\"\n",
    "assert complex1 != complex2\n",
    "\n",
    "Test Case 2:\n",
    "complex3 = ComplexNumber(-2, 5)\n",
    "complex4 = ComplexNumber(2, 3)\n",
    "assert str(complex3) == \"-2+5i\"\n",
    "assert str(complex4) == \"2+3i\"\n",
    "assert str(complex3 + complex4) == \"0+8i\"\n",
    "assert str(complex3 - complex4) == \"-4+2i\"\n",
    "assert str(complex3 * complex4) == \"-16-1i\"\n",
    "assert str(complex3 / complex4) == \"1.0+i\"\n",
    "assert complex3 != complex4\n",
    "\n",
    "\"\"\"\n",
    "\n",
    "mailtomayankaggarwal@gmail.com"
   ]
  }
 ],
 "metadata": {
  "kernelspec": {
   "display_name": "Python 3 (ipykernel)",
   "language": "python",
   "name": "python3"
  },
  "language_info": {
   "codemirror_mode": {
    "name": "ipython",
    "version": 3
   },
   "file_extension": ".py",
   "mimetype": "text/x-python",
   "name": "python",
   "nbconvert_exporter": "python",
   "pygments_lexer": "ipython3",
   "version": "3.11.5"
  }
 },
 "nbformat": 4,
 "nbformat_minor": 5
}
