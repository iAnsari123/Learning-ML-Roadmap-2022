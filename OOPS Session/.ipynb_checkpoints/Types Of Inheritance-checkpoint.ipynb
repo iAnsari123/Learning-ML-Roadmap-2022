{
 "cells": [
  {
   "cell_type": "markdown",
   "id": "236b54f6-a52a-40c6-820d-fb76ebca85ec",
   "metadata": {},
   "source": [
    "# Simple"
   ]
  },
  {
   "cell_type": "code",
   "execution_count": 10,
   "id": "824da3da-f79b-4cc5-a9a5-9e358802e57f",
   "metadata": {},
   "outputs": [],
   "source": [
    "class Grandfather:\n",
    "    def __init__(self, name, age):\n",
    "        self.name = name\n",
    "        self.age = age\n",
    "        \n",
    "    def show_details(self):\n",
    "        return f'Name: {self.name}, Age: {self.age}'\n",
    "        \n",
    "    def speak(self):\n",
    "        return 'Grandfather speaks wisely.'\n",
    "\n",
    "class Father(Grandfather):\n",
    "    def __init__(self, name, age, occupation):\n",
    "        super().__init__(name, age)\n",
    "        self.occupation = occupation\n",
    "        \n",
    "    def show_occupation(self):\n",
    "        return f'Occupation: {self.occupation}'\n",
    "    \n",
    "    def speak(self):\n",
    "        return 'Father speaks carefully.'\n",
    "\n"
   ]
  },
  {
   "cell_type": "code",
   "execution_count": 15,
   "id": "7212f1d9-eff3-43e0-b362-9e10136852b1",
   "metadata": {},
   "outputs": [
    {
     "name": "stdout",
     "output_type": "stream",
     "text": [
      "Name: John, Age: 50\n",
      "Occupation: Engineer\n",
      "Father speaks carefully.\n"
     ]
    }
   ],
   "source": [
    "# Creating an object of the Father class\n",
    "father_obj = Father('John', 50, 'Engineer')\n",
    "print(father_obj.show_details())\n",
    "print(father_obj.show_occupation())\n",
    "print(father_obj.speak())"
   ]
  },
  {
   "cell_type": "code",
   "execution_count": null,
   "id": "f3680d99-aa13-4f81-8d3e-1222d70f40a9",
   "metadata": {},
   "outputs": [],
   "source": []
  },
  {
   "cell_type": "code",
   "execution_count": 18,
   "id": "bb487eb0-c999-4499-9d40-724a6e19660f",
   "metadata": {},
   "outputs": [],
   "source": [
    "# Heirarchial"
   ]
  },
  {
   "cell_type": "code",
   "execution_count": 24,
   "id": "824f5e6d-5d83-465c-8e79-79376842f7ca",
   "metadata": {},
   "outputs": [
    {
     "name": "stdout",
     "output_type": "stream",
     "text": [
      "Name: Alice, Age: 20\n",
      "Hobby: Painting\n",
      "Child1 speaks enthusiastically.\n",
      "Name: Bob, Age: 22\n",
      "Favorite Subject: Mathematics\n",
      "Child2 speaks thoughtfully.\n"
     ]
    }
   ],
   "source": [
    "class Grandfather:\n",
    "    def __init__(self, name, age):\n",
    "        self.name = name\n",
    "        self.age = age\n",
    "        \n",
    "    def show_details(self):\n",
    "        return f'Name: {self.name}, Age: {self.age}'\n",
    "        \n",
    "    def speak(self):\n",
    "        return 'Grandfather speaks wisely.'\n",
    "\n",
    "class Child1(Grandfather):\n",
    "    def __init__(self, name, age, hobby):\n",
    "        super().__init__(name, age)\n",
    "        self.hobby = hobby\n",
    "        \n",
    "    def show_hobby(self):\n",
    "        return f'Hobby: {self.hobby}'\n",
    "    \n",
    "    def speak(self):\n",
    "        return 'Child1 speaks enthusiastically.'\n",
    "\n",
    "class Child2(Grandfather):\n",
    "    def __init__(self, name, age, favorite_subject):\n",
    "        super().__init__(name, age)\n",
    "        self.favorite_subject = favorite_subject\n",
    "        \n",
    "    def show_favorite_subject(self):\n",
    "        return f'Favorite Subject: {self.favorite_subject}'\n",
    "    \n",
    "    def speak(self):\n",
    "        return 'Child2 speaks thoughtfully.'\n",
    "\n",
    "# Creating objects of Child1 and Child2 classes\n",
    "child1_obj = Child1('Alice', 20, 'Painting')\n",
    "child2_obj = Child2('Bob', 22, 'Mathematics')\n",
    "print(child1_obj.show_details())\n",
    "print(child1_obj.show_hobby())\n",
    "print(child1_obj.speak())\n",
    "\n",
    "print(child2_obj.show_details())\n",
    "print(child2_obj.show_favorite_subject())\n",
    "print(child2_obj.speak())"
   ]
  },
  {
   "cell_type": "code",
   "execution_count": null,
   "id": "ee059080-4795-418d-a1c8-c1408c2a34ec",
   "metadata": {},
   "outputs": [],
   "source": []
  },
  {
   "cell_type": "code",
   "execution_count": 39,
   "id": "847a5678-e3f1-4eb6-9a47-0d7030c55668",
   "metadata": {},
   "outputs": [
    {
     "name": "stdout",
     "output_type": "stream",
     "text": [
      "Name: Charlie, Age: 18\n",
      "Occupation: Engineer\n",
      "Hobby: Cycling\n",
      "Grandfather speaks wisely.\n"
     ]
    }
   ],
   "source": [
    "# Multilevel Inheritance Example\n",
    "\n",
    "class Grandfather:\n",
    "    def __init__(self, name, age):\n",
    "        self.name = name\n",
    "        self.age = age\n",
    "        \n",
    "    def show_details(self):\n",
    "        return f'Name: {self.name}, Age: {self.age}'\n",
    "        \n",
    "    def speak(self):\n",
    "        return 'Grandfather speaks wisely.'\n",
    "\n",
    "class Father(Grandfather):\n",
    "    def __init__(self, name, age, occupation):\n",
    "        super().__init__(name, age)\n",
    "        self.occupation = occupation\n",
    "        \n",
    "    def show_occupation(self):\n",
    "        return f'Occupation: {self.occupation}'\n",
    "    \n",
    "    def speak(self):\n",
    "        return super().speak()\n",
    "\n",
    "class Child(Father):\n",
    "    def __init__(self, name, age, hobby):\n",
    "        super().__init__(name, age, 'Engineer')\n",
    "        self.hobby = hobby\n",
    "        \n",
    "    def show_hobby(self):\n",
    "        return f'Hobby: {self.hobby}'\n",
    "    \n",
    "    def speak(self):\n",
    "        return super().speak()\n",
    "\n",
    "# Creating an object of the Child class\n",
    "child_obj = Child('Charlie', 18, 'Cycling')\n",
    "print(child_obj.show_details())\n",
    "print(child_obj.show_occupation())\n",
    "print(child_obj.show_hobby())\n",
    "print(child_obj.speak())"
   ]
  },
  {
   "cell_type": "code",
   "execution_count": null,
   "id": "dfc2d8ef-3d6a-4373-98fc-f2dc09b05d37",
   "metadata": {},
   "outputs": [],
   "source": []
  },
  {
   "cell_type": "markdown",
   "id": "111e9f50-f392-46e9-b884-591d40a28f33",
   "metadata": {},
   "source": [
    "# Multiple"
   ]
  },
  {
   "cell_type": "code",
   "execution_count": 61,
   "id": "ba5e08ef-d38a-48ca-94be-4d256d51d0bd",
   "metadata": {},
   "outputs": [
    {
     "name": "stdout",
     "output_type": "stream",
     "text": [
      "Name: Daisy, Age: 16\n",
      "Favorite Food: Pizza\n",
      "Hobby: Dancing\n",
      "Mother speaks lovingly.\n"
     ]
    }
   ],
   "source": [
    "# Multiple Inheritance Example\n",
    "\n",
    "class Father:\n",
    "    def __init__(self, name, age):\n",
    "        self.name = name\n",
    "        self.age = age\n",
    "        \n",
    "    def show_details(self):\n",
    "        return f'Name: {self.name}, Age: {self.age}'\n",
    "\n",
    "\n",
    "    # def show_favorite_food(self):\n",
    "    #     return \"Here\"\n",
    "        \n",
    "    def speak(self):\n",
    "        return 'Father speaks carefully.'\n",
    "\n",
    "class Mother:\n",
    "    def __init__(self, name, favorite_food):\n",
    "        self.name = name\n",
    "        self.favorite_food = favorite_food\n",
    "        \n",
    "    def show_favorite_food(self):\n",
    "        return f'Favorite Food: {self.favorite_food}'\n",
    "        \n",
    "    def speak(self):\n",
    "        return 'Mother speaks lovingly.'\n",
    "\n",
    "class Child(Mother,Father):\n",
    "    def __init__(self, name, age, favorite_food, hobby):\n",
    "        Father.__init__(self, name, age)\n",
    "        Mother.__init__(self, name, favorite_food)\n",
    "        self.hobby = hobby\n",
    "        \n",
    "    def show_hobby(self):\n",
    "        return f'Hobby: {self.hobby}'\n",
    "    \n",
    "    # def speak(self):\n",
    "    #     return 'Child speaks excitedly.'\n",
    "\n",
    "# Creating an object of the Child class\n",
    "child_obj = Child('Daisy', 16, 'Pizza', 'Dancing')\n",
    "print(child_obj.show_details())\n",
    "print(child_obj.show_favorite_food())\n",
    "print(child_obj.show_hobby())\n",
    "print(child_obj.speak())"
   ]
  },
  {
   "cell_type": "code",
   "execution_count": 63,
   "id": "fdf84913-e094-4399-a434-6ac1da18f357",
   "metadata": {},
   "outputs": [
    {
     "data": {
      "text/plain": [
       "[__main__.Child, __main__.Mother, __main__.Father, object]"
      ]
     },
     "execution_count": 63,
     "metadata": {},
     "output_type": "execute_result"
    }
   ],
   "source": [
    "Child.mro()"
   ]
  },
  {
   "cell_type": "code",
   "execution_count": null,
   "id": "64c2f61e-4323-418a-8862-36c90df70660",
   "metadata": {},
   "outputs": [],
   "source": []
  }
 ],
 "metadata": {
  "kernelspec": {
   "display_name": "Python 3 (ipykernel)",
   "language": "python",
   "name": "python3"
  },
  "language_info": {
   "codemirror_mode": {
    "name": "ipython",
    "version": 3
   },
   "file_extension": ".py",
   "mimetype": "text/x-python",
   "name": "python",
   "nbconvert_exporter": "python",
   "pygments_lexer": "ipython3",
   "version": "3.11.5"
  }
 },
 "nbformat": 4,
 "nbformat_minor": 5
}
