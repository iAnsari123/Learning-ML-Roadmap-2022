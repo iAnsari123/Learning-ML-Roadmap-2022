{
 "cells": [
  {
   "cell_type": "markdown",
   "metadata": {},
   "source": [
    "# Inheritance in Python - Practice Questions"
   ]
  },
  {
   "cell_type": "markdown",
   "metadata": {},
   "source": [
    "## Question 1: Simple Inheritance\n",
    "\n",
    "```python\n",
    "class Animal:\n",
    "    def sound(self):\n",
    "        return 'Some sound'\n",
    "\n",
    "class Dog(Animal):\n",
    "    def sound(self):\n",
    "        return 'Bark'\n",
    "\n",
    "obj = Dog()\n",
    "print(obj.sound())\n",
    "```\n",
    "\n",
    "What will be the output of the code above?"
   ]
  },
  {
   "cell_type": "code",
   "execution_count": 27,
   "metadata": {},
   "outputs": [
    {
     "name": "stdout",
     "output_type": "stream",
     "text": [
      "Bark\n"
     ]
    }
   ],
   "source": [
    "class Animal:\n",
    "    def sound(self):\n",
    "        return 'Some sound'\n",
    "\n",
    "class Dog(Animal):\n",
    "    def sound(self):\n",
    "        return 'Bark'\n",
    "\n",
    "obj = Dog()\n",
    "print(obj.sound())"
   ]
  },
  {
   "cell_type": "markdown",
   "metadata": {},
   "source": [
    "## Question 2: Multilevel Inheritance\n",
    "\n",
    "```python\n",
    "class Grandparent:\n",
    "    def family_name(self):\n",
    "        return 'Smith'\n",
    "\n",
    "class Parent(Grandparent):\n",
    "    pass\n",
    "\n",
    "class Child(Parent):\n",
    "    def family_name(self):\n",
    "        return 'Johnson'\n",
    "\n",
    "obj = Child()\n",
    "print(obj.family_name())\n",
    "```\n",
    "\n",
    "What will be the output of the code above?"
   ]
  },
  {
   "cell_type": "code",
   "execution_count": 36,
   "metadata": {},
   "outputs": [
    {
     "name": "stdout",
     "output_type": "stream",
     "text": [
      "Smith\n"
     ]
    }
   ],
   "source": [
    "class Grandparent:\n",
    "    def family_name(self):\n",
    "        return 'Smith'\n",
    "\n",
    "class Parent(Grandparent):\n",
    "    pass\n",
    "\n",
    "class Child(Parent):\n",
    "    def family_name(self):\n",
    "        return 'Johnson'\n",
    "\n",
    "obj = Parent()\n",
    "print(obj.family_name())"
   ]
  },
  {
   "cell_type": "markdown",
   "metadata": {},
   "source": [
    "## Question 3: Multiple Inheritance\n",
    "\n",
    "```python\n",
    "class A:\n",
    "    def show(self):\n",
    "        return 'A'\n",
    "\n",
    "class B:\n",
    "    def show(self):\n",
    "        return 'B'\n",
    "\n",
    "class C(A, B):\n",
    "    pass\n",
    "\n",
    "obj = C()\n",
    "print(obj.show())\n",
    "```\n",
    "\n",
    "What will be the output of the code above?"
   ]
  },
  {
   "cell_type": "code",
   "execution_count": 38,
   "metadata": {},
   "outputs": [
    {
     "name": "stdout",
     "output_type": "stream",
     "text": [
      "A\n"
     ]
    }
   ],
   "source": [
    "class A:\n",
    "    def show(self):\n",
    "        return 'A'\n",
    "\n",
    "class B:\n",
    "    def show(self):\n",
    "        return 'B'\n",
    "\n",
    "class C(A, B):\n",
    "    pass\n",
    "\n",
    "obj = C()\n",
    "print(obj.show())"
   ]
  },
  {
   "cell_type": "markdown",
   "metadata": {},
   "source": [
    "## Question 4: Hierarchical Inheritance\n",
    "\n",
    "```python\n",
    "class Parent:\n",
    "    def common(self):\n",
    "        return 'Parent method'\n",
    "\n",
    "class Child1(Parent):\n",
    "    def specific(self):\n",
    "        return 'Child1 method'\n",
    "\n",
    "class Child2(Parent):\n",
    "    def specific(self):\n",
    "        return 'Child2 method'\n",
    "\n",
    "obj1 = Child1()\n",
    "obj2 = Child2()\n",
    "print(obj1.common())\n",
    "print(obj2.specific())\n",
    "```\n",
    "\n",
    "What will be the output of the code above?"
   ]
  },
  {
   "cell_type": "code",
   "execution_count": 41,
   "metadata": {},
   "outputs": [
    {
     "name": "stdout",
     "output_type": "stream",
     "text": [
      "Parent method\n",
      "Child2 method\n"
     ]
    }
   ],
   "source": [
    "class Parent:\n",
    "    def common(self):\n",
    "        return 'Parent method'\n",
    "\n",
    "class Child1(Parent):\n",
    "    def specific(self):\n",
    "        return 'Child1 method'\n",
    "\n",
    "class Child2(Parent):\n",
    "    def specific(self):\n",
    "        return 'Child2 method'\n",
    "\n",
    "obj1 = Child1()\n",
    "obj2 = Child2()\n",
    "print(obj1.common())\n",
    "print(obj2.specific())"
   ]
  },
  {
   "cell_type": "markdown",
   "metadata": {},
   "source": [
    "## Question 5: Hybrid Inheritance\n",
    "\n",
    "```python\n",
    "class Base:\n",
    "    def message(self):\n",
    "        return 'Base class message'\n",
    "\n",
    "class A(Base):\n",
    "    def message(self):\n",
    "        return 'A class message'\n",
    "\n",
    "class B(Base):\n",
    "    def message(self):\n",
    "        return 'B class message'\n",
    "\n",
    "class C(A, B):\n",
    "    pass\n",
    "\n",
    "obj = C()\n",
    "print(obj.message())\n",
    "```\n",
    "\n",
    "What will be the output of the code above?"
   ]
  },
  {
   "cell_type": "code",
   "execution_count": 43,
   "metadata": {},
   "outputs": [
    {
     "name": "stdout",
     "output_type": "stream",
     "text": [
      "A class message\n"
     ]
    }
   ],
   "source": [
    "class Base:\n",
    "    def message(self):\n",
    "        return 'Base class message'\n",
    "\n",
    "class A(Base):\n",
    "    def message(self):\n",
    "        return 'A class message'\n",
    "\n",
    "class B(Base):\n",
    "    def message(self):\n",
    "        return 'B class message'\n",
    "\n",
    "class C(A, B):\n",
    "    pass\n",
    "\n",
    "obj = C()\n",
    "print(obj.message())"
   ]
  },
  {
   "cell_type": "markdown",
   "metadata": {},
   "source": [
    "## Question 6: Using super() with Inheritance\n",
    "\n",
    "```python\n",
    "class Parent:\n",
    "    def show(self):\n",
    "        return 'Parent method'\n",
    "\n",
    "class Child(Parent):\n",
    "    def show(self):\n",
    "        return super().show() + ' and Child method'\n",
    "\n",
    "obj = Child()\n",
    "print(obj.show())\n",
    "```\n",
    "\n",
    "What will be the output of the code above?"
   ]
  },
  {
   "cell_type": "code",
   "execution_count": 46,
   "metadata": {},
   "outputs": [
    {
     "name": "stdout",
     "output_type": "stream",
     "text": [
      "Parent method and Child method\n"
     ]
    }
   ],
   "source": [
    "class Parent:\n",
    "    def show(self):\n",
    "        return 'Parent method'\n",
    "\n",
    "class Child(Parent):\n",
    "    def show(self):\n",
    "        return super().show() + ' and Child method'\n",
    "\n",
    "obj = Child()\n",
    "print(obj.show())"
   ]
  },
  {
   "cell_type": "markdown",
   "metadata": {},
   "source": [
    "## Question 7: Constructor in Multilevel Inheritance\n",
    "\n",
    "```python\n",
    "class Grandparent:\n",
    "    def __init__(self):\n",
    "        print('Grandparent Constructor')\n",
    "\n",
    "class Parent(Grandparent):\n",
    "    def __init__(self):\n",
    "        super().__init__()\n",
    "        print('Parent Constructor')\n",
    "\n",
    "class Child(Parent):\n",
    "    def __init__(self):\n",
    "        super().__init__()\n",
    "        print('Child Constructor')\n",
    "\n",
    "obj = Child()\n",
    "```\n",
    "\n",
    "What will be the output of the code above?"
   ]
  },
  {
   "cell_type": "code",
   "execution_count": 48,
   "metadata": {},
   "outputs": [
    {
     "name": "stdout",
     "output_type": "stream",
     "text": [
      "Grandparent Constructor\n",
      "Parent Constructor\n",
      "Child Constructor\n"
     ]
    }
   ],
   "source": [
    "class Grandparent:\n",
    "    def __init__(self):\n",
    "        print('Grandparent Constructor')\n",
    "\n",
    "class Parent(Grandparent):\n",
    "    def __init__(self):\n",
    "        super().__init__()\n",
    "        print('Parent Constructor')\n",
    "\n",
    "class Child(Parent):\n",
    "    def __init__(self):\n",
    "        super().__init__()\n",
    "        print('Child Constructor')\n",
    "\n",
    "obj = Child()"
   ]
  },
  {
   "cell_type": "markdown",
   "metadata": {},
   "source": [
    "## Question 8: Diamond Problem in Multiple Inheritance\n",
    "\n",
    "```python\n",
    "class A:\n",
    "    def show(self):\n",
    "        return 'A'\n",
    "\n",
    "class B(A):\n",
    "    def show(self):\n",
    "        return 'B'\n",
    "\n",
    "class C(A):\n",
    "    def show(self):\n",
    "        return 'C'\n",
    "\n",
    "class D(B, C):\n",
    "    pass\n",
    "\n",
    "obj = D()\n",
    "print(obj.show())\n",
    "```\n",
    "\n",
    "What will be the output of the code above?"
   ]
  },
  {
   "cell_type": "code",
   "execution_count": 51,
   "metadata": {},
   "outputs": [
    {
     "name": "stdout",
     "output_type": "stream",
     "text": [
      "B\n"
     ]
    }
   ],
   "source": [
    "class A:\n",
    "    def show(self):\n",
    "        return 'A'\n",
    "\n",
    "class B(A):\n",
    "    def show(self):\n",
    "        return 'B'\n",
    "\n",
    "class C(A):\n",
    "    def show(self):\n",
    "        return 'C'\n",
    "\n",
    "class D(B, C):\n",
    "    pass\n",
    "\n",
    "obj = D()\n",
    "print(obj.show())"
   ]
  },
  {
   "cell_type": "markdown",
   "metadata": {},
   "source": [
    "## Question 9: Method Resolution Order (MRO)\n",
    "\n",
    "```python\n",
    "class A:\n",
    "    def process(self):\n",
    "        return 'A'\n",
    "\n",
    "class B(A):\n",
    "    def process(self):\n",
    "        return 'B'\n",
    "\n",
    "class C(A):\n",
    "    def process(self):\n",
    "        return 'C'\n",
    "\n",
    "class D(B, C):\n",
    "    pass\n",
    "\n",
    "obj = D()\n",
    "print(obj.process())\n",
    "```\n",
    "\n",
    "What will be the output of the code above?"
   ]
  },
  {
   "cell_type": "code",
   "execution_count": 56,
   "metadata": {},
   "outputs": [
    {
     "name": "stdout",
     "output_type": "stream",
     "text": [
      "B\n"
     ]
    }
   ],
   "source": [
    "class A:\n",
    "    def process(self):\n",
    "        return 'A'\n",
    "\n",
    "class B(A):\n",
    "    def process(self):\n",
    "        return 'B'\n",
    "\n",
    "class C(A):\n",
    "    def process(self):\n",
    "        return 'C'\n",
    "\n",
    "class D(B, C):\n",
    "    pass\n",
    "\n",
    "obj = D()\n",
    "print(obj.process())"
   ]
  },
  {
   "cell_type": "code",
   "execution_count": 58,
   "metadata": {},
   "outputs": [
    {
     "data": {
      "text/plain": [
       "[__main__.D, __main__.B, __main__.C, __main__.A, object]"
      ]
     },
     "execution_count": 58,
     "metadata": {},
     "output_type": "execute_result"
    }
   ],
   "source": [
    "D.mro()"
   ]
  },
  {
   "cell_type": "markdown",
   "metadata": {},
   "source": [
    "## Question 10: Overriding and MRO\n",
    "\n",
    "```python\n",
    "class A:\n",
    "    def __init__(self):\n",
    "        self.value = 'A'\n",
    "\n",
    "class B(A):\n",
    "    def __init__(self):\n",
    "        super().__init__()\n",
    "        self.value = 'B'\n",
    "\n",
    "class C(A):\n",
    "    def __init__(self):\n",
    "        super().__init__()\n",
    "        self.value = 'C'\n",
    "\n",
    "class D(B, C):\n",
    "    def __init__(self):\n",
    "        super().__init__()\n",
    "\n",
    "obj = D()\n",
    "print(obj.value)\n",
    "```\n",
    "\n",
    "What will be the output of the code above?"
   ]
  },
  {
   "cell_type": "code",
   "execution_count": 62,
   "metadata": {},
   "outputs": [
    {
     "name": "stdout",
     "output_type": "stream",
     "text": [
      "B\n"
     ]
    }
   ],
   "source": [
    "class A:\n",
    "    def __init__(self):\n",
    "        self.value = 'A'\n",
    "\n",
    "class B(A):\n",
    "    def __init__(self):\n",
    "        super().__init__()\n",
    "        self.value = 'B'\n",
    "\n",
    "class C(A):\n",
    "    def __init__(self):\n",
    "        super().__init__()\n",
    "        self.value = 'C'\n",
    "\n",
    "class D(B, C):\n",
    "    def __init__(self):\n",
    "        super().__init__()\n",
    "\n",
    "obj = D()\n",
    "print(obj.value)"
   ]
  },
  {
   "cell_type": "code",
   "execution_count": 64,
   "metadata": {},
   "outputs": [
    {
     "data": {
      "text/plain": [
       "[__main__.D, __main__.B, __main__.C, __main__.A, object]"
      ]
     },
     "execution_count": 64,
     "metadata": {},
     "output_type": "execute_result"
    }
   ],
   "source": [
    "D.mro()"
   ]
  },
  {
   "cell_type": "markdown",
   "metadata": {},
   "source": [
    "# Answers and Explanations"
   ]
  },
  {
   "cell_type": "markdown",
   "metadata": {},
   "source": [
    "## Answer 1:\n",
    "\n",
    "Output: `Bark`\n",
    "\n",
    "### Explanation:\n",
    "In simple inheritance, the `Dog` class overrides the `sound()` method from the `Animal` class, so when we create an object of `Dog` and call `sound()`, it returns `'Bark'`."
   ]
  },
  {
   "cell_type": "markdown",
   "metadata": {},
   "source": [
    "## Answer 2:\n",
    "\n",
    "Output: `Johnson`\n",
    "\n",
    "### Explanation:\n",
    "In multilevel inheritance, the `Child` class overrides the `family_name()` method from the `Grandparent` class, so the `Child` class's method is called, returning `'Johnson'`."
   ]
  },
  {
   "cell_type": "markdown",
   "metadata": {},
   "source": [
    "## Answer 3:\n",
    "\n",
    "Output: `A`\n",
    "\n",
    "### Explanation:\n",
    "In multiple inheritance, the method resolution order (MRO) dictates that the method from the first class in the inheritance list (`A`) is used, so the output is `'A'`."
   ]
  },
  {
   "cell_type": "markdown",
   "metadata": {},
   "source": [
    "## Answer 4:\n",
    "\n",
    "Output: \n",
    "```\n",
    "Parent method\n",
    "Child2 method\n",
    "```\n",
    "\n",
    "### Explanation:\n",
    "In hierarchical inheritance, both `Child1` and `Child2` inherit from `Parent`. `Child1` calls the `common()` method from `Parent`, and `Child2` calls its own `specific()` method."
   ]
  },
  {
   "cell_type": "markdown",
   "metadata": {},
   "source": [
    "## Answer 5:\n",
    "\n",
    "Output: `A class message`\n",
    "\n",
    "### Explanation:\n",
    "In hybrid inheritance, `C` inherits from both `A` and `B`, but `A` comes first in the MRO, so the `message()` method from `A` is called."
   ]
  },
  {
   "cell_type": "markdown",
   "metadata": {},
   "source": [
    "## Answer 6:\n",
    "\n",
    "Output: `Parent method and Child method`\n",
    "\n",
    "### Explanation:\n",
    "The `super()` function is used to call the `show()` method from the `Parent` class, and the `Child` class's `show()` method appends its own string to the result."
   ]
  },
  {
   "cell_type": "markdown",
   "metadata": {},
   "source": [
    "## Answer 7:\n",
    "\n",
    "Output:\n",
    "```\n",
    "Grandparent Constructor\n",
    "Parent Constructor\n",
    "Child Constructor\n",
    "```\n",
    "\n",
    "### Explanation:\n",
    "In multilevel inheritance, constructors are called in the order of inheritance hierarchy, starting from `Grandparent`, followed by `Parent`, and finally `Child`."
   ]
  },
  {
   "cell_type": "markdown",
   "metadata": {},
   "source": [
    "## Answer 8:\n",
    "\n",
    "Output: `B`\n",
    "\n",
    "### Explanation:\n",
    "The diamond problem is resolved in Python using the C3 linearization algorithm. The MRO for `D` is `D -> B -> C -> A`, so `B`'s method is used."
   ]
  },
  {
   "cell_type": "markdown",
   "metadata": {},
   "source": [
    "## Answer 9:\n",
    "\n",
    "Output: `B`\n",
    "\n",
    "### Explanation:\n",
    "MRO dictates that `D` will first check `B` for the `process()` method, which is found and used, so the output is `'B'`."
   ]
  },
  {
   "cell_type": "markdown",
   "metadata": {},
   "source": [
    "## Answer 10:\n",
    "\n",
    "Output: `B`\n",
    "\n",
    "### Explanation:\n",
    "The `D` class's constructor calls `super()`, which in turn follows the MRO. Here, it calls `C`'s constructor last, which sets the `value` to `'B'`."
   ]
  }
 ],
 "metadata": {
  "kernelspec": {
   "display_name": "Python 3 (ipykernel)",
   "language": "python",
   "name": "python3"
  },
  "language_info": {
   "codemirror_mode": {
    "name": "ipython",
    "version": 3
   },
   "file_extension": ".py",
   "mimetype": "text/x-python",
   "name": "python",
   "nbconvert_exporter": "python",
   "pygments_lexer": "ipython3",
   "version": "3.11.5"
  }
 },
 "nbformat": 4,
 "nbformat_minor": 4
}
