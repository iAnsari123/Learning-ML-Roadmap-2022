{
 "cells": [
  {
   "cell_type": "markdown",
   "id": "0e0e4177-7a28-4a56-a517-f03c7939c18e",
   "metadata": {},
   "source": [
    "# Abstraction"
   ]
  },
  {
   "cell_type": "code",
   "execution_count": 2,
   "id": "0045bfde-c206-40cd-bf01-529e476339d0",
   "metadata": {},
   "outputs": [],
   "source": [
    "from abc import ABC,abstractmethod"
   ]
  },
  {
   "cell_type": "code",
   "execution_count": 6,
   "id": "99500731-85c0-4e5e-8af9-7e4f5ebe7182",
   "metadata": {},
   "outputs": [],
   "source": [
    "class User(ABC):\n",
    "    # def __init__\n",
    "    \n",
    "    @abstractmethod\n",
    "    def login(self):\n",
    "        pass\n",
    "\n",
    "    def logout(self):\n",
    "        print(\"logout\")\n",
    "\n",
    "    @abstractmethod\n",
    "    def auth(self):\n",
    "        pass"
   ]
  },
  {
   "cell_type": "code",
   "execution_count": 24,
   "id": "777a1a9a-a74e-47f9-9d33-890c5bf6f945",
   "metadata": {},
   "outputs": [],
   "source": [
    "class Buyer(User):\n",
    "\n",
    "    def login(self):\n",
    "        if(self.auth):\n",
    "            print(\"Logging in User\")\n",
    "            \n",
    "    def checkObject(self,link):\n",
    "        print(link)\n",
    "\n",
    "    def auth(self):\n",
    "        return True"
   ]
  },
  {
   "cell_type": "code",
   "execution_count": null,
   "id": "76840f29-5294-42a8-ad80-b44675712d49",
   "metadata": {},
   "outputs": [],
   "source": [
    "class Seller(User):\n",
    "\n",
    "    def login(self):\n",
    "        if(self.auth):\n",
    "            print(\"Logging in Seller\")\n",
    "    def checkObject(self,link):\n",
    "        print(link)\n",
    "\n",
    "    def auth(self):\n",
    "        print(\"OTP\")\n",
    "        return True"
   ]
  },
  {
   "cell_type": "code",
   "execution_count": 18,
   "id": "38e20606-35af-4578-805d-5524dd826020",
   "metadata": {},
   "outputs": [],
   "source": [
    "b1 = Buyer()"
   ]
  },
  {
   "cell_type": "code",
   "execution_count": 22,
   "id": "98105bc9-e1d7-4336-b71b-e7663f6302db",
   "metadata": {},
   "outputs": [
    {
     "data": {
      "text/plain": [
       "True"
      ]
     },
     "execution_count": 22,
     "metadata": {},
     "output_type": "execute_result"
    }
   ],
   "source": [
    "b1.auth()"
   ]
  },
  {
   "cell_type": "code",
   "execution_count": null,
   "id": "1a004c9a-9304-453a-9ff3-25f58f08dcad",
   "metadata": {},
   "outputs": [],
   "source": []
  },
  {
   "cell_type": "code",
   "execution_count": null,
   "id": "036aff92-4e4e-466b-8d8a-ef9e42aa44ee",
   "metadata": {},
   "outputs": [],
   "source": []
  },
  {
   "cell_type": "code",
   "execution_count": null,
   "id": "87a3b2db-8929-4f00-9e05-1a2f9594cece",
   "metadata": {},
   "outputs": [],
   "source": []
  },
  {
   "cell_type": "code",
   "execution_count": null,
   "id": "99ac7bc4-cfae-4632-b6b0-feb3c3c6fac0",
   "metadata": {},
   "outputs": [],
   "source": []
  },
  {
   "cell_type": "code",
   "execution_count": null,
   "id": "ac7987d8-ab07-4ae0-99c2-6331f0dd6239",
   "metadata": {},
   "outputs": [],
   "source": []
  },
  {
   "cell_type": "code",
   "execution_count": null,
   "id": "8c9cc089-b3de-4c82-b763-80930bad26eb",
   "metadata": {},
   "outputs": [],
   "source": []
  },
  {
   "cell_type": "code",
   "execution_count": 40,
   "id": "199ad945-bec9-4059-a18d-c12e686d8599",
   "metadata": {},
   "outputs": [],
   "source": [
    "from abc import ABC,abstractmethod\n",
    "\n",
    "class Animal(ABC):\n",
    "    @abstractmethod\n",
    "    def speak(self):\n",
    "        pass"
   ]
  },
  {
   "cell_type": "code",
   "execution_count": 56,
   "id": "40c238dd-2c60-4554-b91e-4109ed7b37f3",
   "metadata": {},
   "outputs": [],
   "source": [
    "class Dog(Animal):\n",
    "    def speak2(self):\n",
    "        print (\"bark\")"
   ]
  },
  {
   "cell_type": "code",
   "execution_count": 58,
   "id": "9b584c35-1e22-40dc-b23a-450a2ae25c22",
   "metadata": {},
   "outputs": [
    {
     "ename": "TypeError",
     "evalue": "Can't instantiate abstract class Dog with abstract method speak",
     "output_type": "error",
     "traceback": [
      "\u001b[0;31m---------------------------------------------------------------------------\u001b[0m",
      "\u001b[0;31mTypeError\u001b[0m                                 Traceback (most recent call last)",
      "Cell \u001b[0;32mIn[58], line 1\u001b[0m\n\u001b[0;32m----> 1\u001b[0m d1 \u001b[38;5;241m=\u001b[39m Dog()\n",
      "\u001b[0;31mTypeError\u001b[0m: Can't instantiate abstract class Dog with abstract method speak"
     ]
    }
   ],
   "source": [
    "d1 = Dog()"
   ]
  },
  {
   "cell_type": "code",
   "execution_count": 54,
   "id": "cfc56fcc-d8c1-4a9b-9d41-46dc49aed9be",
   "metadata": {},
   "outputs": [
    {
     "name": "stdout",
     "output_type": "stream",
     "text": [
      "bark\n"
     ]
    }
   ],
   "source": [
    "d1.speak()"
   ]
  }
 ],
 "metadata": {
  "kernelspec": {
   "display_name": "Python 3 (ipykernel)",
   "language": "python",
   "name": "python3"
  },
  "language_info": {
   "codemirror_mode": {
    "name": "ipython",
    "version": 3
   },
   "file_extension": ".py",
   "mimetype": "text/x-python",
   "name": "python",
   "nbconvert_exporter": "python",
   "pygments_lexer": "ipython3",
   "version": "3.11.5"
  }
 },
 "nbformat": 4,
 "nbformat_minor": 5
}
