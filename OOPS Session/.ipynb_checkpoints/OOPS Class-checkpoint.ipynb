{
 "cells": [
  {
   "cell_type": "code",
   "execution_count": 97,
   "id": "ff8e67bf-ace3-4a80-a702-63baaa5b261a",
   "metadata": {},
   "outputs": [],
   "source": [
    "def hello(arg1,kyaBolnaHain,kiskoBolnaHai,kaiseBolnaHain):\n",
    "    print(arg1)\n",
    "    name = \"DSA\"\n",
    "    kyaBolnaHain = 1\n",
    "    kiskoBolnaHai = 2\n",
    "    kaiseBolnaHain = 3\n",
    "    print(name,)\n",
    "    print(\"Hello Python\")"
   ]
  },
  {
   "cell_type": "code",
   "execution_count": 131,
   "id": "b0ff180e-4766-4da9-af64-918e38249cf1",
   "metadata": {},
   "outputs": [],
   "source": [
    "l1.sort()"
   ]
  },
  {
   "cell_type": "code",
   "execution_count": 129,
   "id": "c3d46d33-749a-4b21-98e6-07a0ce0880b5",
   "metadata": {},
   "outputs": [
    {
     "data": {
      "text/plain": [
       "[1, 2, 3]"
      ]
     },
     "execution_count": 129,
     "metadata": {},
     "output_type": "execute_result"
    }
   ],
   "source": [
    "l1"
   ]
  },
  {
   "cell_type": "code",
   "execution_count": 99,
   "id": "a0bdd6b3-0bb5-4a51-99b1-d78096dd49de",
   "metadata": {},
   "outputs": [
    {
     "ename": "TypeError",
     "evalue": "hello() missing 3 required positional arguments: 'kyaBolnaHain', 'kiskoBolnaHai', and 'kaiseBolnaHain'",
     "output_type": "error",
     "traceback": [
      "\u001b[0;31m---------------------------------------------------------------------------\u001b[0m",
      "\u001b[0;31mTypeError\u001b[0m                                 Traceback (most recent call last)",
      "Cell \u001b[0;32mIn[99], line 1\u001b[0m\n\u001b[0;32m----> 1\u001b[0m hello(l1)\n",
      "\u001b[0;31mTypeError\u001b[0m: hello() missing 3 required positional arguments: 'kyaBolnaHain', 'kiskoBolnaHai', and 'kaiseBolnaHain'"
     ]
    }
   ],
   "source": [
    "hello(l1)"
   ]
  },
  {
   "cell_type": "code",
   "execution_count": null,
   "id": "bd57f62b-60ac-4613-8126-3299120f63b3",
   "metadata": {},
   "outputs": [],
   "source": [
    "s1 = \"Mayank\"\n",
    "hello(s1)"
   ]
  },
  {
   "cell_type": "code",
   "execution_count": 101,
   "id": "dfd832a9-255c-4781-8d0d-0f075981d04b",
   "metadata": {},
   "outputs": [
    {
     "ename": "NameError",
     "evalue": "name 'name' is not defined",
     "output_type": "error",
     "traceback": [
      "\u001b[0;31m---------------------------------------------------------------------------\u001b[0m",
      "\u001b[0;31mNameError\u001b[0m                                 Traceback (most recent call last)",
      "Cell \u001b[0;32mIn[101], line 1\u001b[0m\n\u001b[0;32m----> 1\u001b[0m name\n",
      "\u001b[0;31mNameError\u001b[0m: name 'name' is not defined"
     ]
    }
   ],
   "source": [
    "name"
   ]
  },
  {
   "cell_type": "code",
   "execution_count": 31,
   "id": "0507ae92-5dae-40f9-addd-11d12d2fea80",
   "metadata": {},
   "outputs": [
    {
     "name": "stdout",
     "output_type": "stream",
     "text": [
      "4824130384\n"
     ]
    }
   ],
   "source": [
    "print(id(s1))\n",
    "id"
   ]
  },
  {
   "cell_type": "code",
   "execution_count": 181,
   "id": "8ff2a398-8312-4cc0-af65-9c4c9e1679e4",
   "metadata": {},
   "outputs": [],
   "source": [
    "class Student:\n",
    "    def __init__(self,name,rollNumber,marks):\n",
    "        # print(id(self))\n",
    "        self.rollNumber = rollNumber\n",
    "        self.name = name\n",
    "        self.marks = marks\n",
    "        \n",
    "    def study(self):\n",
    "        print(\"I am \"+ str(self.rollNumber) +\" and I am  studying\")\n",
    "        \n",
    "    def play(self):\n",
    "        print(\"Pdh liya, now going to play\")"
   ]
  },
  {
   "cell_type": "code",
   "execution_count": 183,
   "id": "9b41c7b0-7c35-4aec-ae7c-4a45efd621b2",
   "metadata": {},
   "outputs": [],
   "source": [
    "s1 = Student(\"Mayank\",1,90)"
   ]
  },
  {
   "cell_type": "code",
   "execution_count": 185,
   "id": "5656ec16-41cf-4738-bd92-d1cbacbf87b8",
   "metadata": {},
   "outputs": [
    {
     "data": {
      "text/plain": [
       "('Mayank', 1, 90)"
      ]
     },
     "execution_count": 185,
     "metadata": {},
     "output_type": "execute_result"
    }
   ],
   "source": [
    "s1.name,s1.rollNumber,s1.marks"
   ]
  },
  {
   "cell_type": "code",
   "execution_count": 187,
   "id": "128f260e-2a36-4d04-a244-fac534111785",
   "metadata": {},
   "outputs": [
    {
     "name": "stdout",
     "output_type": "stream",
     "text": [
      "I am 1 and I am  studying\n"
     ]
    }
   ],
   "source": [
    "s1.study()"
   ]
  },
  {
   "cell_type": "code",
   "execution_count": 157,
   "id": "8649336b-872a-48bb-a163-f45b50f06634",
   "metadata": {},
   "outputs": [
    {
     "name": "stdout",
     "output_type": "stream",
     "text": [
      "4824261584\n"
     ]
    }
   ],
   "source": [
    "print(id(s1))"
   ]
  },
  {
   "cell_type": "code",
   "execution_count": 117,
   "id": "5e9d5eed-9385-4873-a13e-c5536e43dd7d",
   "metadata": {},
   "outputs": [],
   "source": [
    "s2 =Student(\"Goku\",2,50)"
   ]
  },
  {
   "cell_type": "code",
   "execution_count": 119,
   "id": "f7166092-967a-4ac4-a776-ff9d4021f247",
   "metadata": {},
   "outputs": [
    {
     "data": {
      "text/plain": [
       "('Goku', 2, 50)"
      ]
     },
     "execution_count": 119,
     "metadata": {},
     "output_type": "execute_result"
    }
   ],
   "source": [
    "s2.name,s2.rollNumber,s2.marks"
   ]
  },
  {
   "cell_type": "code",
   "execution_count": 190,
   "id": "794de267-fee9-4425-98e4-d77b5766ecda",
   "metadata": {},
   "outputs": [
    {
     "name": "stdout",
     "output_type": "stream",
     "text": [
      "4825002384\n"
     ]
    }
   ],
   "source": [
    "print(id(s1))"
   ]
  },
  {
   "cell_type": "code",
   "execution_count": null,
   "id": "ab08a4c6-f19c-4d5e-a87b-234087be0b22",
   "metadata": {},
   "outputs": [],
   "source": [
    "s1."
   ]
  }
 ],
 "metadata": {
  "kernelspec": {
   "display_name": "Python 3 (ipykernel)",
   "language": "python",
   "name": "python3"
  },
  "language_info": {
   "codemirror_mode": {
    "name": "ipython",
    "version": 3
   },
   "file_extension": ".py",
   "mimetype": "text/x-python",
   "name": "python",
   "nbconvert_exporter": "python",
   "pygments_lexer": "ipython3",
   "version": "3.11.5"
  }
 },
 "nbformat": 4,
 "nbformat_minor": 5
}
