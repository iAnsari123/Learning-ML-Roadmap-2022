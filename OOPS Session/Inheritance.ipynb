{
 "cells": [
  {
   "cell_type": "markdown",
   "id": "4f473304-7264-49a8-8fe0-a1283be3438d",
   "metadata": {},
   "source": [
    "# Inheritance"
   ]
  },
  {
   "cell_type": "code",
   "execution_count": 135,
   "id": "fcbdec5e-0563-4939-8938-15362b61f08e",
   "metadata": {},
   "outputs": [],
   "source": [
    "class User:\n",
    "    def __init__(self,name,id,age,passCode):\n",
    "        self.name = name\n",
    "        self.id = id\n",
    "        self.age = age\n",
    "        self.passCode = passCode\n",
    "\n",
    "    \n",
    "    def login(self):\n",
    "        print(\"P logged in\")\n",
    "    def logout(self):\n",
    "        print(\"P logged out\")\n",
    "        "
   ]
  },
  {
   "cell_type": "code",
   "execution_count": 175,
   "id": "66784080-9aed-414e-a2d2-6e34191579c3",
   "metadata": {},
   "outputs": [],
   "source": [
    "class Student(User):\n",
    "    def __init__(self,marks,rollNumber,name,id,age,passCode):\n",
    "\n",
    "        super().__init__(name,id,age,passCode)\n",
    "        print(super().login())\n",
    "        self.marks = marks\n",
    "        self.rollNumber = rollNumber\n",
    "\n",
    "    \n",
    "    def login(self):\n",
    "        print(\"OTP sent\")\n",
    "        super().login()"
   ]
  },
  {
   "cell_type": "code",
   "execution_count": 173,
   "id": "50ef1197-d0bf-4199-8066-42b1eb3064a4",
   "metadata": {},
   "outputs": [
    {
     "name": "stdout",
     "output_type": "stream",
     "text": [
      "P logged in\n",
      "None\n"
     ]
    }
   ],
   "source": [
    "s1 = Student(90,123,\"mayank\",1,25,\"0000\")\n"
   ]
  },
  {
   "cell_type": "code",
   "execution_count": 169,
   "id": "62a6b191-c3a6-494d-8160-0a4c33abccc7",
   "metadata": {},
   "outputs": [
    {
     "name": "stdout",
     "output_type": "stream",
     "text": [
      "OTP sent\n",
      "P logged in\n"
     ]
    }
   ],
   "source": [
    "s1.login()"
   ]
  },
  {
   "cell_type": "code",
   "execution_count": 171,
   "id": "fae8c456-6e06-443a-93b7-47feba8b17b7",
   "metadata": {},
   "outputs": [
    {
     "data": {
      "text/plain": [
       "'mayank'"
      ]
     },
     "execution_count": 171,
     "metadata": {},
     "output_type": "execute_result"
    }
   ],
   "source": [
    "s1.name"
   ]
  },
  {
   "cell_type": "code",
   "execution_count": 73,
   "id": "91f14c12-ca7f-4339-9ded-6cf07f05607f",
   "metadata": {},
   "outputs": [
    {
     "name": "stdout",
     "output_type": "stream",
     "text": [
      "logged in\n"
     ]
    }
   ],
   "source": [
    "s1.login()\n",
    "s1.logout()\n",
    "\n",
    "u1 = User()\n",
    "u1.login()"
   ]
  },
  {
   "cell_type": "code",
   "execution_count": 178,
   "id": "f9c92b85-7d5f-4002-8ee9-82fac089e42a",
   "metadata": {},
   "outputs": [
    {
     "ename": "SyntaxError",
     "evalue": "invalid syntax (1298058013.py, line 1)",
     "output_type": "error",
     "traceback": [
      "\u001b[0;36m  Cell \u001b[0;32mIn[178], line 1\u001b[0;36m\u001b[0m\n\u001b[0;31m    s1.\u001b[0m\n\u001b[0m       ^\u001b[0m\n\u001b[0;31mSyntaxError\u001b[0m\u001b[0;31m:\u001b[0m invalid syntax\n"
     ]
    }
   ],
   "source": [
    "s1."
   ]
  },
  {
   "cell_type": "code",
   "execution_count": null,
   "id": "0f95cf8c-62d0-4288-bb80-fe9c51871150",
   "metadata": {},
   "outputs": [],
   "source": []
  },
  {
   "cell_type": "code",
   "execution_count": null,
   "id": "a05c83c9-7869-4e5c-ba1e-e78abce701f3",
   "metadata": {},
   "outputs": [],
   "source": []
  },
  {
   "cell_type": "code",
   "execution_count": null,
   "id": "11fc8b37-f7f7-4383-bd8c-c91328f0d7e6",
   "metadata": {},
   "outputs": [],
   "source": []
  },
  {
   "cell_type": "code",
   "execution_count": 48,
   "id": "8c146617-c271-4237-93b7-a81a499be027",
   "metadata": {},
   "outputs": [
    {
     "name": "stdout",
     "output_type": "stream",
     "text": [
      "Buyer Constructor\n",
      "User Constructor\n"
     ]
    }
   ],
   "source": [
    "b1= Buyer()"
   ]
  },
  {
   "cell_type": "code",
   "execution_count": 50,
   "id": "c10f173d-359d-4521-94fd-8939dc778ba0",
   "metadata": {},
   "outputs": [
    {
     "name": "stdout",
     "output_type": "stream",
     "text": [
      "logged out\n",
      "mentor logged in\n",
      "ecommerce\n",
      "Buyer\n"
     ]
    }
   ],
   "source": [
    "b1.login()"
   ]
  },
  {
   "cell_type": "code",
   "execution_count": 44,
   "id": "af192c8b-037f-4385-8a05-af9da6d4ab96",
   "metadata": {},
   "outputs": [],
   "source": [
    "class User:\n",
    "    def __init__(self):\n",
    "        print(\"User Constructor\")\n",
    "        self.website = \"www.flipkart.com\"\n",
    "        self._field = \"ecommerce\" # protected Member\n",
    "        self.__duration = \"12 months\" #Private\n",
    "        self.__name = \"flipkart User\"\n",
    "    def login(self):\n",
    "        print(\"logged in\")\n",
    "        \n",
    "    def logout(self):\n",
    "        print(\"logged out\") "
   ]
  },
  {
   "cell_type": "code",
   "execution_count": 46,
   "id": "0223165e-eb92-4657-9a5a-1c38154e8639",
   "metadata": {},
   "outputs": [],
   "source": [
    "class Buyer(User):\n",
    "    def __init__(self):\n",
    "        print(\"Buyer Constructor\")\n",
    "        super().__init__()\n",
    "        self.website =\"www.amazon.in\"\n",
    "        self.__name = \"Buyer\"\n",
    "    \n",
    "    def login(self):\n",
    "        super().logout()\n",
    "        \n",
    "        print(\"mentor logged in\")\n",
    "        print(self._field) # accessible\n",
    "        print(self.__name) # Not Accessible"
   ]
  }
 ],
 "metadata": {
  "kernelspec": {
   "display_name": "Python 3 (ipykernel)",
   "language": "python",
   "name": "python3"
  },
  "language_info": {
   "codemirror_mode": {
    "name": "ipython",
    "version": 3
   },
   "file_extension": ".py",
   "mimetype": "text/x-python",
   "name": "python",
   "nbconvert_exporter": "python",
   "pygments_lexer": "ipython3",
   "version": "3.11.5"
  }
 },
 "nbformat": 4,
 "nbformat_minor": 5
}
